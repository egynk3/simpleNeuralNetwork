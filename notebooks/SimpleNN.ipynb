{
  "nbformat": 4,
  "nbformat_minor": 0,
  "metadata": {
    "colab": {
      "provenance": [],
      "authorship_tag": "ABX9TyPj2TPQ1eXkV6UdhUVVE/o0",
      "include_colab_link": true
    },
    "kernelspec": {
      "name": "python3",
      "display_name": "Python 3"
    },
    "language_info": {
      "name": "python"
    }
  },
  "cells": [
    {
      "cell_type": "markdown",
      "metadata": {
        "id": "view-in-github",
        "colab_type": "text"
      },
      "source": [
        "<a href=\"https://colab.research.google.com/github/egynk3/simpleNeuralNetwork/blob/main/notebooks/SimpleNN.ipynb\" target=\"_parent\"><img src=\"https://colab.research.google.com/assets/colab-badge.svg\" alt=\"Open In Colab\"/></a>"
      ]
    },
    {
      "cell_type": "code",
      "execution_count": 1,
      "metadata": {
        "colab": {
          "base_uri": "https://localhost:8080/",
          "height": 106
        },
        "id": "1juTw2lBLIub",
        "outputId": "a2e05e08-033a-4297-fa46-92233c112a8a"
      },
      "outputs": [
        {
          "output_type": "error",
          "ename": "SyntaxError",
          "evalue": "incomplete input (ipython-input-39773322.py, line 12)",
          "traceback": [
            "\u001b[0;36m  File \u001b[0;32m\"/tmp/ipython-input-39773322.py\"\u001b[0;36m, line \u001b[0;32m12\u001b[0m\n\u001b[0;31m    \"\"\"Read and preprocess data from the specified root path.\u001b[0m\n\u001b[0m    ^\u001b[0m\n\u001b[0;31mSyntaxError\u001b[0m\u001b[0;31m:\u001b[0m incomplete input\n"
          ]
        }
      ],
      "source": [
        "#importing relevant libs\n",
        "import numpy as np               # Numerical operations\n",
        "import pandas as pd              # Data handling (e.g., read CSV files)\n",
        "from sklearn.model_selection import train_test_split   # Split data into train/test\n",
        "from sklearn.preprocessing import StandardScaler       # Normalize features\n",
        "#pytorch\n",
        "import torch\n",
        "import torch.nn as nn\n",
        "import torch.optim as optim\n",
        "from torch.utils.data import Dataset, DataLoader, TensorDataset\n",
        "#evaluation and vizualization\n",
        "import matplotlib.pyplot as plt\n",
        "from sklearn.metrics import mean_squared_error, mean_absolute_error, r2_score\n",
        "\n",
        "#importing data\n",
        "df = pd.read_csv('data.csv')\n",
        "#normalize data\n",
        "#split into sets training validation and test sets\n",
        "\n",
        "########################################################\n",
        "#scale inputs and outputs\n",
        "#normalize\n",
        "########################################################\n",
        "\n",
        "\n",
        "########################################################\n",
        "##define architecture\n",
        "#input layer\n",
        "#hidden layers\n",
        "#output layer\n",
        "#drop out + batch normalization for training stability\n",
        "########################################################\n",
        "\n",
        "\n",
        "########################################################\n",
        "#define loss funciton\n",
        "#define optimizer\n",
        "#optional metric tracker r^2\n",
        "########################################################\n",
        "\n",
        "########################################################\n",
        "#feed training data into model\n",
        "#use va;odatopm data to monitor overfitting\n",
        "#adjust number of epochs and batch size as needed\n",
        "########################################################\n",
        "\n",
        "\n",
        "########################################################\n",
        "#test model on unseen ddata\n",
        "#compute mse and r^2 to quantify performance\n",
        "#vizualize predicted vs actual h\n",
        "\n",
        "#########################################################\n",
        "#save trained model weights\n",
        "#function that takes new values and returns predicted\n"
      ]
    },
    {
      "cell_type": "code",
      "source": [],
      "metadata": {
        "id": "WXFi0lgK0j4A"
      },
      "execution_count": null,
      "outputs": []
    }
  ]
}